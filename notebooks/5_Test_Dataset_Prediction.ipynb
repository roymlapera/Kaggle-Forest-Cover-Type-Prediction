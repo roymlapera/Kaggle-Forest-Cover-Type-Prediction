{
  "cells": [
    {
      "cell_type": "code",
      "execution_count": null,
      "metadata": {
        "id": "wnR6-fQQB7Q7"
      },
      "outputs": [
        {
          "ename": "",
          "evalue": "",
          "output_type": "error",
          "traceback": [
            "\u001b[1;31mRunning cells with 'Python 3.11.4' requires the ipykernel package.\n",
            "\u001b[1;31mRun the following command to install 'ipykernel' into the Python environment. \n",
            "\u001b[1;31mCommand: 'conda install -p \\ ipykernel --update-deps --force-reinstall'"
          ]
        }
      ],
      "source": [
        "from sklearn.ensemble import RandomForestClassifier\n",
        "from sklearn.metrics import accuracy_score\n",
        "import pickle\n",
        "import pandas as pd\n",
        "\n",
        "def print_summary(df):\n",
        "    display(df.info())\n",
        "    display(df.head())"
      ]
    },
    {
      "cell_type": "code",
      "execution_count": null,
      "metadata": {},
      "outputs": [],
      "source": [
        "test_df = pd.read_csv('/data/raw/test.csv')\n",
        "print_summary(test_df)"
      ]
    },
    {
      "cell_type": "code",
      "execution_count": null,
      "metadata": {},
      "outputs": [],
      "source": [
        "# Cargo el modelo para ver si lo hizo bien\n",
        "with open('../models/random_forest_model.h5', 'rb') as f:\n",
        "    random_forest_model = pickle.load(f)"
      ]
    },
    {
      "cell_type": "code",
      "execution_count": 19,
      "metadata": {
        "id": "lYJdYZ2QB7RF"
      },
      "outputs": [],
      "source": [
        "# Usar el modelo cargado para predecir\n",
        "y_pred = random_forest_model.predict(X_test)"
      ]
    },
    {
      "cell_type": "code",
      "execution_count": 27,
      "metadata": {
        "colab": {
          "base_uri": "https://localhost:8080/"
        },
        "id": "F_TV5xvbZf2r",
        "outputId": "5f5bba65-02d7-4dc6-b4b7-574d9d919b00"
      },
      "outputs": [
        {
          "name": "stdout",
          "output_type": "stream",
          "text": [
            "Mejores hiperparámetros: {'max_depth': 30, 'min_samples_leaf': 1, 'n_estimators': 70}\n",
            "Accuracy en el conjunto de entrenamiento: 99.9917328042328\n",
            "Accuracy en el conjunto de prueba: 100.0\n"
          ]
        }
      ],
      "source": [
        "# Predecir en el conjunto de prueba con el mejor modelo\n",
        "best_model = grid_search.best_estimator_\n",
        "\n",
        "y_train_pred = best_model.predict(X_train)\n",
        "# Evaluar el rendimiento\n",
        "accuracy_train = accuracy_score(y_train, y_train_pred)\n",
        "print(f\"Accuracy en el conjunto de entrenamiento: {accuracy_train*100}\")\n",
        "\n",
        "y_test_pred = best_model.predict(X_test)\n",
        "# Evaluar el rendimiento\n",
        "accuracy_test = accuracy_score(y_test, y_test_pred)\n",
        "print(f\"Accuracy en el conjunto de prueba: {accuracy_test*100}\")"
      ]
    }
  ],
  "metadata": {
    "accelerator": "GPU",
    "colab": {
      "gpuType": "T4",
      "provenance": []
    },
    "kernelspec": {
      "display_name": "Python 3",
      "name": "python3"
    },
    "language_info": {
      "codemirror_mode": {
        "name": "ipython",
        "version": 3
      },
      "file_extension": ".py",
      "mimetype": "text/x-python",
      "name": "python",
      "nbconvert_exporter": "python",
      "pygments_lexer": "ipython3",
      "version": "3.11.4"
    }
  },
  "nbformat": 4,
  "nbformat_minor": 0
}
