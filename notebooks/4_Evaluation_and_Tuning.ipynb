{
  "cells": [
    {
      "cell_type": "code",
      "execution_count": 28,
      "metadata": {
        "id": "wnR6-fQQB7Q7"
      },
      "outputs": [],
      "source": [
        "import pandas as pd\n",
        "import matplotlib.pyplot as plt\n",
        "%matplotlib inline\n",
        "from IPython.display import display\n",
        "\n",
        "from sklearn.model_selection import train_test_split\n",
        "from sklearn.ensemble import RandomForestClassifier\n",
        "from sklearn.model_selection import KFold\n",
        "from sklearn.model_selection import cross_val_score, StratifiedKFold\n",
        "from sklearn.model_selection import GridSearchCV\n",
        "from sklearn.metrics import accuracy_score\n",
        "from sklearn.metrics import confusion_matrix, ConfusionMatrixDisplay\n",
        "import pickle\n",
        "\n",
        "from tqdm import tqdm\n",
        "\n",
        "def print_summary(df):\n",
        "    display(df.info())\n",
        "    display(df.head())\n",
        "\n",
        "def calculate_combination_hiperparameters(param):\n",
        "    total_combination_hiperparameters = 1\n",
        "    for pages in param.values():\n",
        "        total_combination_hiperparameters *= len(pages)\n",
        "    return total_combination_hiperparameters\n",
        "\n",
        "def assess_model_performance(model, name, X_train, y_train, cv):\n",
        "    s = cross_val_score(model, X_train, y_train, cv=cv, n_jobs=-1)\n",
        "    print('Performance of {}:\\t{:0.1f} ± {:0.1f} %'.format( \\\n",
        "        name, s.mean().round(3)*100, s.std().round(3)*100))\n",
        "\n",
        "def do_cross_val(model, X_train, y_train, n_splits=5):\n",
        "    my_fold = KFold(n_splits=n_splits, shuffle=True, random_state=1)\n",
        "    scores = cross_val_score(model, X_train, y_train, cv=my_fold, n_jobs=-1, scoring='r2')\n",
        "    return scores.mean(), scores.std()"
      ]
    },
    {
      "cell_type": "code",
      "execution_count": 3,
      "metadata": {
        "colab": {
          "base_uri": "https://localhost:8080/",
          "height": 90
        },
        "id": "073nVsXkCAKF",
        "outputId": "b2215326-c1f7-465b-d4b4-54df75b7a7a2"
      },
      "outputs": [
        {
          "name": "stdout",
          "output_type": "stream",
          "text": [
            "Mounted at /content/drive\n"
          ]
        },
        {
          "data": {
            "text/html": [
              "\n",
              "     <input type=\"file\" id=\"files-f832eb57-b518-44ea-ba15-c2f491a27b80\" name=\"files[]\" multiple disabled\n",
              "        style=\"border:none\" />\n",
              "     <output id=\"result-f832eb57-b518-44ea-ba15-c2f491a27b80\">\n",
              "      Upload widget is only available when the cell has been executed in the\n",
              "      current browser session. Please rerun this cell to enable.\n",
              "      </output>\n",
              "      <script>// Copyright 2017 Google LLC\n",
              "//\n",
              "// Licensed under the Apache License, Version 2.0 (the \"License\");\n",
              "// you may not use this file except in compliance with the License.\n",
              "// You may obtain a copy of the License at\n",
              "//\n",
              "//      http://www.apache.org/licenses/LICENSE-2.0\n",
              "//\n",
              "// Unless required by applicable law or agreed to in writing, software\n",
              "// distributed under the License is distributed on an \"AS IS\" BASIS,\n",
              "// WITHOUT WARRANTIES OR CONDITIONS OF ANY KIND, either express or implied.\n",
              "// See the License for the specific language governing permissions and\n",
              "// limitations under the License.\n",
              "\n",
              "/**\n",
              " * @fileoverview Helpers for google.colab Python module.\n",
              " */\n",
              "(function(scope) {\n",
              "function span(text, styleAttributes = {}) {\n",
              "  const element = document.createElement('span');\n",
              "  element.textContent = text;\n",
              "  for (const key of Object.keys(styleAttributes)) {\n",
              "    element.style[key] = styleAttributes[key];\n",
              "  }\n",
              "  return element;\n",
              "}\n",
              "\n",
              "// Max number of bytes which will be uploaded at a time.\n",
              "const MAX_PAYLOAD_SIZE = 100 * 1024;\n",
              "\n",
              "function _uploadFiles(inputId, outputId) {\n",
              "  const steps = uploadFilesStep(inputId, outputId);\n",
              "  const outputElement = document.getElementById(outputId);\n",
              "  // Cache steps on the outputElement to make it available for the next call\n",
              "  // to uploadFilesContinue from Python.\n",
              "  outputElement.steps = steps;\n",
              "\n",
              "  return _uploadFilesContinue(outputId);\n",
              "}\n",
              "\n",
              "// This is roughly an async generator (not supported in the browser yet),\n",
              "// where there are multiple asynchronous steps and the Python side is going\n",
              "// to poll for completion of each step.\n",
              "// This uses a Promise to block the python side on completion of each step,\n",
              "// then passes the result of the previous step as the input to the next step.\n",
              "function _uploadFilesContinue(outputId) {\n",
              "  const outputElement = document.getElementById(outputId);\n",
              "  const steps = outputElement.steps;\n",
              "\n",
              "  const next = steps.next(outputElement.lastPromiseValue);\n",
              "  return Promise.resolve(next.value.promise).then((value) => {\n",
              "    // Cache the last promise value to make it available to the next\n",
              "    // step of the generator.\n",
              "    outputElement.lastPromiseValue = value;\n",
              "    return next.value.response;\n",
              "  });\n",
              "}\n",
              "\n",
              "/**\n",
              " * Generator function which is called between each async step of the upload\n",
              " * process.\n",
              " * @param {string} inputId Element ID of the input file picker element.\n",
              " * @param {string} outputId Element ID of the output display.\n",
              " * @return {!Iterable<!Object>} Iterable of next steps.\n",
              " */\n",
              "function* uploadFilesStep(inputId, outputId) {\n",
              "  const inputElement = document.getElementById(inputId);\n",
              "  inputElement.disabled = false;\n",
              "\n",
              "  const outputElement = document.getElementById(outputId);\n",
              "  outputElement.innerHTML = '';\n",
              "\n",
              "  const pickedPromise = new Promise((resolve) => {\n",
              "    inputElement.addEventListener('change', (e) => {\n",
              "      resolve(e.target.files);\n",
              "    });\n",
              "  });\n",
              "\n",
              "  const cancel = document.createElement('button');\n",
              "  inputElement.parentElement.appendChild(cancel);\n",
              "  cancel.textContent = 'Cancel upload';\n",
              "  const cancelPromise = new Promise((resolve) => {\n",
              "    cancel.onclick = () => {\n",
              "      resolve(null);\n",
              "    };\n",
              "  });\n",
              "\n",
              "  // Wait for the user to pick the files.\n",
              "  const files = yield {\n",
              "    promise: Promise.race([pickedPromise, cancelPromise]),\n",
              "    response: {\n",
              "      action: 'starting',\n",
              "    }\n",
              "  };\n",
              "\n",
              "  cancel.remove();\n",
              "\n",
              "  // Disable the input element since further picks are not allowed.\n",
              "  inputElement.disabled = true;\n",
              "\n",
              "  if (!files) {\n",
              "    return {\n",
              "      response: {\n",
              "        action: 'complete',\n",
              "      }\n",
              "    };\n",
              "  }\n",
              "\n",
              "  for (const file of files) {\n",
              "    const li = document.createElement('li');\n",
              "    li.append(span(file.name, {fontWeight: 'bold'}));\n",
              "    li.append(span(\n",
              "        `(${file.type || 'n/a'}) - ${file.size} bytes, ` +\n",
              "        `last modified: ${\n",
              "            file.lastModifiedDate ? file.lastModifiedDate.toLocaleDateString() :\n",
              "                                    'n/a'} - `));\n",
              "    const percent = span('0% done');\n",
              "    li.appendChild(percent);\n",
              "\n",
              "    outputElement.appendChild(li);\n",
              "\n",
              "    const fileDataPromise = new Promise((resolve) => {\n",
              "      const reader = new FileReader();\n",
              "      reader.onload = (e) => {\n",
              "        resolve(e.target.result);\n",
              "      };\n",
              "      reader.readAsArrayBuffer(file);\n",
              "    });\n",
              "    // Wait for the data to be ready.\n",
              "    let fileData = yield {\n",
              "      promise: fileDataPromise,\n",
              "      response: {\n",
              "        action: 'continue',\n",
              "      }\n",
              "    };\n",
              "\n",
              "    // Use a chunked sending to avoid message size limits. See b/62115660.\n",
              "    let position = 0;\n",
              "    do {\n",
              "      const length = Math.min(fileData.byteLength - position, MAX_PAYLOAD_SIZE);\n",
              "      const chunk = new Uint8Array(fileData, position, length);\n",
              "      position += length;\n",
              "\n",
              "      const base64 = btoa(String.fromCharCode.apply(null, chunk));\n",
              "      yield {\n",
              "        response: {\n",
              "          action: 'append',\n",
              "          file: file.name,\n",
              "          data: base64,\n",
              "        },\n",
              "      };\n",
              "\n",
              "      let percentDone = fileData.byteLength === 0 ?\n",
              "          100 :\n",
              "          Math.round((position / fileData.byteLength) * 100);\n",
              "      percent.textContent = `${percentDone}% done`;\n",
              "\n",
              "    } while (position < fileData.byteLength);\n",
              "  }\n",
              "\n",
              "  // All done.\n",
              "  yield {\n",
              "    response: {\n",
              "      action: 'complete',\n",
              "    }\n",
              "  };\n",
              "}\n",
              "\n",
              "scope.google = scope.google || {};\n",
              "scope.google.colab = scope.google.colab || {};\n",
              "scope.google.colab._files = {\n",
              "  _uploadFiles,\n",
              "  _uploadFilesContinue,\n",
              "};\n",
              "})(self);\n",
              "</script> "
            ],
            "text/plain": [
              "<IPython.core.display.HTML object>"
            ]
          },
          "metadata": {},
          "output_type": "display_data"
        },
        {
          "name": "stdout",
          "output_type": "stream",
          "text": [
            "Saving processed_train.csv to processed_train.csv\n"
          ]
        }
      ],
      "source": [
        "# Usar si entrenamos desde Google Colab\n",
        "from google.colab import drive\n",
        "from google.colab import files\n",
        "\n",
        "drive.mount('/content/drive')\n",
        "# This will prompt you to upload a file\n",
        "uploaded = files.upload()"
      ]
    },
    {
      "cell_type": "code",
      "execution_count": 4,
      "metadata": {
        "colab": {
          "base_uri": "https://localhost:8080/",
          "height": 1000
        },
        "id": "pkbZ69DZB7Q_",
        "outputId": "7d26950d-1540-474c-9852-6b4b32b48f81"
      },
      "outputs": [
        {
          "name": "stdout",
          "output_type": "stream",
          "text": [
            "<class 'pandas.core.frame.DataFrame'>\n",
            "RangeIndex: 15120 entries, 0 to 15119\n",
            "Data columns (total 55 columns):\n",
            " #   Column                              Non-Null Count  Dtype  \n",
            "---  ------                              --------------  -----  \n",
            " 0   Elevation                           15120 non-null  float64\n",
            " 1   Aspect                              15120 non-null  float64\n",
            " 2   Slope                               15120 non-null  float64\n",
            " 3   Horizontal_Distance_To_Hydrology    15120 non-null  float64\n",
            " 4   Vertical_Distance_To_Hydrology      15120 non-null  float64\n",
            " 5   Horizontal_Distance_To_Roadways     15120 non-null  float64\n",
            " 6   Hillshade_9am                       15120 non-null  float64\n",
            " 7   Hillshade_Noon                      15120 non-null  float64\n",
            " 8   Hillshade_3pm                       15120 non-null  float64\n",
            " 9   Horizontal_Distance_To_Fire_Points  15120 non-null  float64\n",
            " 10  Wilderness_Area1                    15120 non-null  float64\n",
            " 11  Wilderness_Area2                    15120 non-null  int64  \n",
            " 12  Wilderness_Area3                    15120 non-null  int64  \n",
            " 13  Wilderness_Area4                    15120 non-null  int64  \n",
            " 14  Soil_Type1                          15120 non-null  int64  \n",
            " 15  Soil_Type2                          15120 non-null  int64  \n",
            " 16  Soil_Type3                          15120 non-null  int64  \n",
            " 17  Soil_Type4                          15120 non-null  int64  \n",
            " 18  Soil_Type5                          15120 non-null  int64  \n",
            " 19  Soil_Type6                          15120 non-null  int64  \n",
            " 20  Soil_Type7                          15120 non-null  int64  \n",
            " 21  Soil_Type8                          15120 non-null  int64  \n",
            " 22  Soil_Type9                          15120 non-null  int64  \n",
            " 23  Soil_Type10                         15120 non-null  int64  \n",
            " 24  Soil_Type11                         15120 non-null  int64  \n",
            " 25  Soil_Type12                         15120 non-null  int64  \n",
            " 26  Soil_Type13                         15120 non-null  int64  \n",
            " 27  Soil_Type14                         15120 non-null  int64  \n",
            " 28  Soil_Type15                         15120 non-null  int64  \n",
            " 29  Soil_Type16                         15120 non-null  int64  \n",
            " 30  Soil_Type17                         15120 non-null  int64  \n",
            " 31  Soil_Type18                         15120 non-null  int64  \n",
            " 32  Soil_Type19                         15120 non-null  int64  \n",
            " 33  Soil_Type20                         15120 non-null  int64  \n",
            " 34  Soil_Type21                         15120 non-null  int64  \n",
            " 35  Soil_Type22                         15120 non-null  int64  \n",
            " 36  Soil_Type23                         15120 non-null  int64  \n",
            " 37  Soil_Type24                         15120 non-null  int64  \n",
            " 38  Soil_Type25                         15120 non-null  int64  \n",
            " 39  Soil_Type26                         15120 non-null  int64  \n",
            " 40  Soil_Type27                         15120 non-null  int64  \n",
            " 41  Soil_Type28                         15120 non-null  int64  \n",
            " 42  Soil_Type29                         15120 non-null  int64  \n",
            " 43  Soil_Type30                         15120 non-null  int64  \n",
            " 44  Soil_Type31                         15120 non-null  int64  \n",
            " 45  Soil_Type32                         15120 non-null  int64  \n",
            " 46  Soil_Type33                         15120 non-null  int64  \n",
            " 47  Soil_Type34                         15120 non-null  int64  \n",
            " 48  Soil_Type35                         15120 non-null  int64  \n",
            " 49  Soil_Type36                         15120 non-null  int64  \n",
            " 50  Soil_Type37                         15120 non-null  int64  \n",
            " 51  Soil_Type38                         15120 non-null  int64  \n",
            " 52  Soil_Type39                         15120 non-null  int64  \n",
            " 53  Soil_Type40                         15120 non-null  int64  \n",
            " 54  Cover_Type                          15120 non-null  int64  \n",
            "dtypes: float64(11), int64(44)\n",
            "memory usage: 6.3 MB\n"
          ]
        },
        {
          "data": {
            "text/plain": [
              "None"
            ]
          },
          "metadata": {},
          "output_type": "display_data"
        },
        {
          "data": {
            "application/vnd.google.colaboratory.intrinsic+json": {
              "type": "dataframe"
            },
            "text/html": [
              "\n",
              "  <div id=\"df-58b7f75e-1b23-4967-bedf-ff24cfadb586\" class=\"colab-df-container\">\n",
              "    <div>\n",
              "<style scoped>\n",
              "    .dataframe tbody tr th:only-of-type {\n",
              "        vertical-align: middle;\n",
              "    }\n",
              "\n",
              "    .dataframe tbody tr th {\n",
              "        vertical-align: top;\n",
              "    }\n",
              "\n",
              "    .dataframe thead th {\n",
              "        text-align: right;\n",
              "    }\n",
              "</style>\n",
              "<table border=\"1\" class=\"dataframe\">\n",
              "  <thead>\n",
              "    <tr style=\"text-align: right;\">\n",
              "      <th></th>\n",
              "      <th>Elevation</th>\n",
              "      <th>Aspect</th>\n",
              "      <th>Slope</th>\n",
              "      <th>Horizontal_Distance_To_Hydrology</th>\n",
              "      <th>Vertical_Distance_To_Hydrology</th>\n",
              "      <th>Horizontal_Distance_To_Roadways</th>\n",
              "      <th>Hillshade_9am</th>\n",
              "      <th>Hillshade_Noon</th>\n",
              "      <th>Hillshade_3pm</th>\n",
              "      <th>Horizontal_Distance_To_Fire_Points</th>\n",
              "      <th>...</th>\n",
              "      <th>Soil_Type32</th>\n",
              "      <th>Soil_Type33</th>\n",
              "      <th>Soil_Type34</th>\n",
              "      <th>Soil_Type35</th>\n",
              "      <th>Soil_Type36</th>\n",
              "      <th>Soil_Type37</th>\n",
              "      <th>Soil_Type38</th>\n",
              "      <th>Soil_Type39</th>\n",
              "      <th>Soil_Type40</th>\n",
              "      <th>Cover_Type</th>\n",
              "    </tr>\n",
              "  </thead>\n",
              "  <tbody>\n",
              "    <tr>\n",
              "      <th>0</th>\n",
              "      <td>-0.367095</td>\n",
              "      <td>-0.959980</td>\n",
              "      <td>-1.597132</td>\n",
              "      <td>0.146639</td>\n",
              "      <td>-0.834074</td>\n",
              "      <td>-0.908681</td>\n",
              "      <td>0.271454</td>\n",
              "      <td>0.571653</td>\n",
              "      <td>0.281259</td>\n",
              "      <td>4.334805</td>\n",
              "      <td>...</td>\n",
              "      <td>0</td>\n",
              "      <td>0</td>\n",
              "      <td>0</td>\n",
              "      <td>0</td>\n",
              "      <td>0</td>\n",
              "      <td>0</td>\n",
              "      <td>0</td>\n",
              "      <td>0</td>\n",
              "      <td>0</td>\n",
              "      <td>5</td>\n",
              "    </tr>\n",
              "    <tr>\n",
              "      <th>1</th>\n",
              "      <td>-0.381461</td>\n",
              "      <td>-0.914559</td>\n",
              "      <td>-1.715424</td>\n",
              "      <td>-0.072337</td>\n",
              "      <td>-0.932054</td>\n",
              "      <td>-0.999246</td>\n",
              "      <td>0.238732</td>\n",
              "      <td>0.703225</td>\n",
              "      <td>0.346627</td>\n",
              "      <td>4.285710</td>\n",
              "      <td>...</td>\n",
              "      <td>0</td>\n",
              "      <td>0</td>\n",
              "      <td>0</td>\n",
              "      <td>0</td>\n",
              "      <td>0</td>\n",
              "      <td>0</td>\n",
              "      <td>0</td>\n",
              "      <td>0</td>\n",
              "      <td>0</td>\n",
              "      <td>5</td>\n",
              "    </tr>\n",
              "    <tr>\n",
              "      <th>2</th>\n",
              "      <td>0.130912</td>\n",
              "      <td>-0.160577</td>\n",
              "      <td>-0.887379</td>\n",
              "      <td>0.194243</td>\n",
              "      <td>0.227369</td>\n",
              "      <td>1.106379</td>\n",
              "      <td>0.696843</td>\n",
              "      <td>0.834797</td>\n",
              "      <td>-0.002005</td>\n",
              "      <td>4.191156</td>\n",
              "      <td>...</td>\n",
              "      <td>0</td>\n",
              "      <td>0</td>\n",
              "      <td>0</td>\n",
              "      <td>0</td>\n",
              "      <td>0</td>\n",
              "      <td>0</td>\n",
              "      <td>0</td>\n",
              "      <td>0</td>\n",
              "      <td>0</td>\n",
              "      <td>2</td>\n",
              "    </tr>\n",
              "    <tr>\n",
              "      <th>3</th>\n",
              "      <td>0.085421</td>\n",
              "      <td>-0.015231</td>\n",
              "      <td>0.177250</td>\n",
              "      <td>0.070474</td>\n",
              "      <td>1.092853</td>\n",
              "      <td>1.038455</td>\n",
              "      <td>0.827731</td>\n",
              "      <td>0.834797</td>\n",
              "      <td>-0.285268</td>\n",
              "      <td>4.272981</td>\n",
              "      <td>...</td>\n",
              "      <td>0</td>\n",
              "      <td>0</td>\n",
              "      <td>0</td>\n",
              "      <td>0</td>\n",
              "      <td>0</td>\n",
              "      <td>0</td>\n",
              "      <td>0</td>\n",
              "      <td>0</td>\n",
              "      <td>0</td>\n",
              "      <td>2</td>\n",
              "    </tr>\n",
              "    <tr>\n",
              "      <th>4</th>\n",
              "      <td>-0.369489</td>\n",
              "      <td>-1.014485</td>\n",
              "      <td>-1.715424</td>\n",
              "      <td>-0.353198</td>\n",
              "      <td>-0.850404</td>\n",
              "      <td>-0.998491</td>\n",
              "      <td>0.238732</td>\n",
              "      <td>0.659368</td>\n",
              "      <td>0.324838</td>\n",
              "      <td>4.237524</td>\n",
              "      <td>...</td>\n",
              "      <td>0</td>\n",
              "      <td>0</td>\n",
              "      <td>0</td>\n",
              "      <td>0</td>\n",
              "      <td>0</td>\n",
              "      <td>0</td>\n",
              "      <td>0</td>\n",
              "      <td>0</td>\n",
              "      <td>0</td>\n",
              "      <td>5</td>\n",
              "    </tr>\n",
              "  </tbody>\n",
              "</table>\n",
              "<p>5 rows × 55 columns</p>\n",
              "</div>\n",
              "    <div class=\"colab-df-buttons\">\n",
              "\n",
              "  <div class=\"colab-df-container\">\n",
              "    <button class=\"colab-df-convert\" onclick=\"convertToInteractive('df-58b7f75e-1b23-4967-bedf-ff24cfadb586')\"\n",
              "            title=\"Convert this dataframe to an interactive table.\"\n",
              "            style=\"display:none;\">\n",
              "\n",
              "  <svg xmlns=\"http://www.w3.org/2000/svg\" height=\"24px\" viewBox=\"0 -960 960 960\">\n",
              "    <path d=\"M120-120v-720h720v720H120Zm60-500h600v-160H180v160Zm220 220h160v-160H400v160Zm0 220h160v-160H400v160ZM180-400h160v-160H180v160Zm440 0h160v-160H620v160ZM180-180h160v-160H180v160Zm440 0h160v-160H620v160Z\"/>\n",
              "  </svg>\n",
              "    </button>\n",
              "\n",
              "  <style>\n",
              "    .colab-df-container {\n",
              "      display:flex;\n",
              "      gap: 12px;\n",
              "    }\n",
              "\n",
              "    .colab-df-convert {\n",
              "      background-color: #E8F0FE;\n",
              "      border: none;\n",
              "      border-radius: 50%;\n",
              "      cursor: pointer;\n",
              "      display: none;\n",
              "      fill: #1967D2;\n",
              "      height: 32px;\n",
              "      padding: 0 0 0 0;\n",
              "      width: 32px;\n",
              "    }\n",
              "\n",
              "    .colab-df-convert:hover {\n",
              "      background-color: #E2EBFA;\n",
              "      box-shadow: 0px 1px 2px rgba(60, 64, 67, 0.3), 0px 1px 3px 1px rgba(60, 64, 67, 0.15);\n",
              "      fill: #174EA6;\n",
              "    }\n",
              "\n",
              "    .colab-df-buttons div {\n",
              "      margin-bottom: 4px;\n",
              "    }\n",
              "\n",
              "    [theme=dark] .colab-df-convert {\n",
              "      background-color: #3B4455;\n",
              "      fill: #D2E3FC;\n",
              "    }\n",
              "\n",
              "    [theme=dark] .colab-df-convert:hover {\n",
              "      background-color: #434B5C;\n",
              "      box-shadow: 0px 1px 3px 1px rgba(0, 0, 0, 0.15);\n",
              "      filter: drop-shadow(0px 1px 2px rgba(0, 0, 0, 0.3));\n",
              "      fill: #FFFFFF;\n",
              "    }\n",
              "  </style>\n",
              "\n",
              "    <script>\n",
              "      const buttonEl =\n",
              "        document.querySelector('#df-58b7f75e-1b23-4967-bedf-ff24cfadb586 button.colab-df-convert');\n",
              "      buttonEl.style.display =\n",
              "        google.colab.kernel.accessAllowed ? 'block' : 'none';\n",
              "\n",
              "      async function convertToInteractive(key) {\n",
              "        const element = document.querySelector('#df-58b7f75e-1b23-4967-bedf-ff24cfadb586');\n",
              "        const dataTable =\n",
              "          await google.colab.kernel.invokeFunction('convertToInteractive',\n",
              "                                                    [key], {});\n",
              "        if (!dataTable) return;\n",
              "\n",
              "        const docLinkHtml = 'Like what you see? Visit the ' +\n",
              "          '<a target=\"_blank\" href=https://colab.research.google.com/notebooks/data_table.ipynb>data table notebook</a>'\n",
              "          + ' to learn more about interactive tables.';\n",
              "        element.innerHTML = '';\n",
              "        dataTable['output_type'] = 'display_data';\n",
              "        await google.colab.output.renderOutput(dataTable, element);\n",
              "        const docLink = document.createElement('div');\n",
              "        docLink.innerHTML = docLinkHtml;\n",
              "        element.appendChild(docLink);\n",
              "      }\n",
              "    </script>\n",
              "  </div>\n",
              "\n",
              "\n",
              "<div id=\"df-4b1d39da-4941-47f2-84cd-a980610f96d9\">\n",
              "  <button class=\"colab-df-quickchart\" onclick=\"quickchart('df-4b1d39da-4941-47f2-84cd-a980610f96d9')\"\n",
              "            title=\"Suggest charts\"\n",
              "            style=\"display:none;\">\n",
              "\n",
              "<svg xmlns=\"http://www.w3.org/2000/svg\" height=\"24px\"viewBox=\"0 0 24 24\"\n",
              "     width=\"24px\">\n",
              "    <g>\n",
              "        <path d=\"M19 3H5c-1.1 0-2 .9-2 2v14c0 1.1.9 2 2 2h14c1.1 0 2-.9 2-2V5c0-1.1-.9-2-2-2zM9 17H7v-7h2v7zm4 0h-2V7h2v10zm4 0h-2v-4h2v4z\"/>\n",
              "    </g>\n",
              "</svg>\n",
              "  </button>\n",
              "\n",
              "<style>\n",
              "  .colab-df-quickchart {\n",
              "      --bg-color: #E8F0FE;\n",
              "      --fill-color: #1967D2;\n",
              "      --hover-bg-color: #E2EBFA;\n",
              "      --hover-fill-color: #174EA6;\n",
              "      --disabled-fill-color: #AAA;\n",
              "      --disabled-bg-color: #DDD;\n",
              "  }\n",
              "\n",
              "  [theme=dark] .colab-df-quickchart {\n",
              "      --bg-color: #3B4455;\n",
              "      --fill-color: #D2E3FC;\n",
              "      --hover-bg-color: #434B5C;\n",
              "      --hover-fill-color: #FFFFFF;\n",
              "      --disabled-bg-color: #3B4455;\n",
              "      --disabled-fill-color: #666;\n",
              "  }\n",
              "\n",
              "  .colab-df-quickchart {\n",
              "    background-color: var(--bg-color);\n",
              "    border: none;\n",
              "    border-radius: 50%;\n",
              "    cursor: pointer;\n",
              "    display: none;\n",
              "    fill: var(--fill-color);\n",
              "    height: 32px;\n",
              "    padding: 0;\n",
              "    width: 32px;\n",
              "  }\n",
              "\n",
              "  .colab-df-quickchart:hover {\n",
              "    background-color: var(--hover-bg-color);\n",
              "    box-shadow: 0 1px 2px rgba(60, 64, 67, 0.3), 0 1px 3px 1px rgba(60, 64, 67, 0.15);\n",
              "    fill: var(--button-hover-fill-color);\n",
              "  }\n",
              "\n",
              "  .colab-df-quickchart-complete:disabled,\n",
              "  .colab-df-quickchart-complete:disabled:hover {\n",
              "    background-color: var(--disabled-bg-color);\n",
              "    fill: var(--disabled-fill-color);\n",
              "    box-shadow: none;\n",
              "  }\n",
              "\n",
              "  .colab-df-spinner {\n",
              "    border: 2px solid var(--fill-color);\n",
              "    border-color: transparent;\n",
              "    border-bottom-color: var(--fill-color);\n",
              "    animation:\n",
              "      spin 1s steps(1) infinite;\n",
              "  }\n",
              "\n",
              "  @keyframes spin {\n",
              "    0% {\n",
              "      border-color: transparent;\n",
              "      border-bottom-color: var(--fill-color);\n",
              "      border-left-color: var(--fill-color);\n",
              "    }\n",
              "    20% {\n",
              "      border-color: transparent;\n",
              "      border-left-color: var(--fill-color);\n",
              "      border-top-color: var(--fill-color);\n",
              "    }\n",
              "    30% {\n",
              "      border-color: transparent;\n",
              "      border-left-color: var(--fill-color);\n",
              "      border-top-color: var(--fill-color);\n",
              "      border-right-color: var(--fill-color);\n",
              "    }\n",
              "    40% {\n",
              "      border-color: transparent;\n",
              "      border-right-color: var(--fill-color);\n",
              "      border-top-color: var(--fill-color);\n",
              "    }\n",
              "    60% {\n",
              "      border-color: transparent;\n",
              "      border-right-color: var(--fill-color);\n",
              "    }\n",
              "    80% {\n",
              "      border-color: transparent;\n",
              "      border-right-color: var(--fill-color);\n",
              "      border-bottom-color: var(--fill-color);\n",
              "    }\n",
              "    90% {\n",
              "      border-color: transparent;\n",
              "      border-bottom-color: var(--fill-color);\n",
              "    }\n",
              "  }\n",
              "</style>\n",
              "\n",
              "  <script>\n",
              "    async function quickchart(key) {\n",
              "      const quickchartButtonEl =\n",
              "        document.querySelector('#' + key + ' button');\n",
              "      quickchartButtonEl.disabled = true;  // To prevent multiple clicks.\n",
              "      quickchartButtonEl.classList.add('colab-df-spinner');\n",
              "      try {\n",
              "        const charts = await google.colab.kernel.invokeFunction(\n",
              "            'suggestCharts', [key], {});\n",
              "      } catch (error) {\n",
              "        console.error('Error during call to suggestCharts:', error);\n",
              "      }\n",
              "      quickchartButtonEl.classList.remove('colab-df-spinner');\n",
              "      quickchartButtonEl.classList.add('colab-df-quickchart-complete');\n",
              "    }\n",
              "    (() => {\n",
              "      let quickchartButtonEl =\n",
              "        document.querySelector('#df-4b1d39da-4941-47f2-84cd-a980610f96d9 button');\n",
              "      quickchartButtonEl.style.display =\n",
              "        google.colab.kernel.accessAllowed ? 'block' : 'none';\n",
              "    })();\n",
              "  </script>\n",
              "</div>\n",
              "\n",
              "    </div>\n",
              "  </div>\n"
            ],
            "text/plain": [
              "   Elevation    Aspect     Slope  Horizontal_Distance_To_Hydrology  \\\n",
              "0  -0.367095 -0.959980 -1.597132                          0.146639   \n",
              "1  -0.381461 -0.914559 -1.715424                         -0.072337   \n",
              "2   0.130912 -0.160577 -0.887379                          0.194243   \n",
              "3   0.085421 -0.015231  0.177250                          0.070474   \n",
              "4  -0.369489 -1.014485 -1.715424                         -0.353198   \n",
              "\n",
              "   Vertical_Distance_To_Hydrology  Horizontal_Distance_To_Roadways  \\\n",
              "0                       -0.834074                        -0.908681   \n",
              "1                       -0.932054                        -0.999246   \n",
              "2                        0.227369                         1.106379   \n",
              "3                        1.092853                         1.038455   \n",
              "4                       -0.850404                        -0.998491   \n",
              "\n",
              "   Hillshade_9am  Hillshade_Noon  Hillshade_3pm  \\\n",
              "0       0.271454        0.571653       0.281259   \n",
              "1       0.238732        0.703225       0.346627   \n",
              "2       0.696843        0.834797      -0.002005   \n",
              "3       0.827731        0.834797      -0.285268   \n",
              "4       0.238732        0.659368       0.324838   \n",
              "\n",
              "   Horizontal_Distance_To_Fire_Points  ...  Soil_Type32  Soil_Type33  \\\n",
              "0                            4.334805  ...            0            0   \n",
              "1                            4.285710  ...            0            0   \n",
              "2                            4.191156  ...            0            0   \n",
              "3                            4.272981  ...            0            0   \n",
              "4                            4.237524  ...            0            0   \n",
              "\n",
              "   Soil_Type34  Soil_Type35  Soil_Type36  Soil_Type37  Soil_Type38  \\\n",
              "0            0            0            0            0            0   \n",
              "1            0            0            0            0            0   \n",
              "2            0            0            0            0            0   \n",
              "3            0            0            0            0            0   \n",
              "4            0            0            0            0            0   \n",
              "\n",
              "   Soil_Type39  Soil_Type40  Cover_Type  \n",
              "0            0            0           5  \n",
              "1            0            0           5  \n",
              "2            0            0           2  \n",
              "3            0            0           2  \n",
              "4            0            0           5  \n",
              "\n",
              "[5 rows x 55 columns]"
            ]
          },
          "metadata": {},
          "output_type": "display_data"
        }
      ],
      "source": [
        "df = pd.read_csv('/content/processed_train.csv')\n",
        "print_summary(df)"
      ]
    },
    {
      "cell_type": "markdown",
      "metadata": {
        "id": "-Agyt5ROB7RB"
      },
      "source": [
        "Train y Test"
      ]
    },
    {
      "cell_type": "code",
      "execution_count": 17,
      "metadata": {
        "id": "sLMZ487kB7RD"
      },
      "outputs": [],
      "source": [
        "X = df.drop(\"Cover_Type\",axis=1)\n",
        "y = df[\"Cover_Type\"]\n",
        "\n",
        "# Separar el 20% de los datos para pruebas\n",
        "X_train, X_test, y_train, y_test = train_test_split(X, y, test_size=0.2, random_state=37, shuffle=True)"
      ]
    },
    {
      "cell_type": "markdown",
      "metadata": {
        "id": "PPGM8t2dB7RE"
      },
      "source": [
        "Instance del modelo RandomForest"
      ]
    },
    {
      "cell_type": "code",
      "execution_count": 19,
      "metadata": {
        "id": "lYJdYZ2QB7RF"
      },
      "outputs": [],
      "source": [
        "rf_model = RandomForestClassifier(class_weight='balanced', random_state=1, n_estimators=70)"
      ]
    },
    {
      "cell_type": "markdown",
      "metadata": {
        "id": "DhFVKhDRB7RG"
      },
      "source": [
        "Entrenamiento preliminar"
      ]
    },
    {
      "cell_type": "code",
      "execution_count": 20,
      "metadata": {
        "colab": {
          "base_uri": "https://localhost:8080/"
        },
        "id": "XMwW9ewiB7RH",
        "outputId": "73938b1b-8710-43e9-8c7e-655f21f32687"
      },
      "outputs": [
        {
          "name": "stdout",
          "output_type": "stream",
          "text": [
            "Performance of Random Forest:\t84.4 ± 0.4 %\n"
          ]
        }
      ],
      "source": [
        "cv = StratifiedKFold(n_splits=3, random_state=41, shuffle=True)\n",
        "assess_model_performance(rf_model,\"Random Forest\", X_train, y_train, cv)"
      ]
    },
    {
      "cell_type": "markdown",
      "metadata": {
        "id": "qT45XNHJB7RI"
      },
      "source": [
        "Tratamos de mejorar ese rendimiento haciendo una GridSearch en los hiperparámetros"
      ]
    },
    {
      "cell_type": "code",
      "execution_count": 23,
      "metadata": {
        "colab": {
          "base_uri": "https://localhost:8080/"
        },
        "id": "l4pusT6XB7RJ",
        "outputId": "c6e4d533-2912-487b-e0f5-c0828994e4fa"
      },
      "outputs": [
        {
          "data": {
            "text/plain": [
              "12"
            ]
          },
          "execution_count": 23,
          "metadata": {},
          "output_type": "execute_result"
        }
      ],
      "source": [
        "param_trees = {'n_estimators': [50, 60, 70],\n",
        "               'max_depth': [5, 10, 30, 40],\n",
        "               'min_samples_leaf':[1]}\n",
        "\n",
        "total_combination_hiperparameters = calculate_combination_hiperparameters(param_trees)\n",
        "total_combination_hiperparameters"
      ]
    },
    {
      "cell_type": "code",
      "execution_count": 24,
      "metadata": {
        "colab": {
          "base_uri": "https://localhost:8080/"
        },
        "id": "zuafnF7mB7RL",
        "outputId": "6106e5a6-a897-4129-8615-55c20e40bbf2"
      },
      "outputs": [
        {
          "name": "stderr",
          "output_type": "stream",
          "text": [
            "\r  0%|          | 0/12 [00:00<?, ?it/s]"
          ]
        },
        {
          "name": "stdout",
          "output_type": "stream",
          "text": [
            "Fitting 3 folds for each of 12 candidates, totalling 36 fits\n"
          ]
        },
        {
          "name": "stderr",
          "output_type": "stream",
          "text": [
            "  8%|▊         | 1/12 [00:38<07:07, 38.89s/it]\n"
          ]
        }
      ],
      "source": [
        "# Crear el GridSearchCV con tqdm\n",
        "with tqdm(total=total_combination_hiperparameters) as pbar:\n",
        "    grid_search = GridSearchCV(rf_model, param_grid=param_trees, cv=cv, verbose=3, n_jobs=3)\n",
        "\n",
        "    # Ajustar el modelo y actualizar la barra de progreso\n",
        "    grid_search.fit(X, y)\n",
        "\n",
        "    pbar.update(1)  # Esto puede no ser necesario, ya que verbose ya muestra el progreso"
      ]
    },
    {
      "cell_type": "code",
      "execution_count": 25,
      "metadata": {
        "colab": {
          "base_uri": "https://localhost:8080/"
        },
        "id": "-MZzV_mTB7RM",
        "outputId": "6191185e-5cbb-4d28-8245-cea6e6318f58"
      },
      "outputs": [
        {
          "name": "stdout",
          "output_type": "stream",
          "text": [
            "Mejores hiperparámetros: {'max_depth': 30, 'min_samples_leaf': 1, 'n_estimators': 70}\n",
            "Mejor puntuación: 84.97354497354496\n"
          ]
        }
      ],
      "source": [
        "grid_search.best_estimator_\n",
        "\n",
        "# Resultados\n",
        "print(\"Mejores hiperparámetros:\", grid_search.best_params_)\n",
        "print(\"Mejor puntuación:\", grid_search.best_score_*100)"
      ]
    },
    {
      "cell_type": "code",
      "execution_count": 27,
      "metadata": {
        "colab": {
          "base_uri": "https://localhost:8080/"
        },
        "id": "F_TV5xvbZf2r",
        "outputId": "5f5bba65-02d7-4dc6-b4b7-574d9d919b00"
      },
      "outputs": [
        {
          "name": "stdout",
          "output_type": "stream",
          "text": [
            "Mejores hiperparámetros: {'max_depth': 30, 'min_samples_leaf': 1, 'n_estimators': 70}\n",
            "Accuracy en el conjunto de entrenamiento: 99.9917328042328\n",
            "Accuracy en el conjunto de prueba: 100.0\n"
          ]
        }
      ],
      "source": [
        "print(\"Mejores hiperparámetros:\", grid_search.best_params_)\n",
        "\n",
        "# Predecir en el conjunto de prueba con el mejor modelo\n",
        "best_model = grid_search.best_estimator_\n",
        "\n",
        "y_train_pred = best_model.predict(X_train)\n",
        "# Evaluar el rendimiento\n",
        "accuracy_train = accuracy_score(y_train, y_train_pred)\n",
        "print(f\"Accuracy en el conjunto de entrenamiento: {accuracy_train*100}\")\n",
        "\n",
        "y_test_pred = best_model.predict(X_test)\n",
        "# Evaluar el rendimiento\n",
        "accuracy_test = accuracy_score(y_test, y_test_pred)\n",
        "print(f\"Accuracy en el conjunto de prueba: {accuracy_test*100}\")"
      ]
    },
    {
      "cell_type": "code",
      "execution_count": 29,
      "metadata": {
        "colab": {
          "base_uri": "https://localhost:8080/"
        },
        "id": "nhEFzgpUkcmJ",
        "outputId": "2d1cf85b-5a20-4cc0-b0eb-234a657dcdd5"
      },
      "outputs": [
        {
          "name": "stdout",
          "output_type": "stream",
          "text": [
            "[[430   0   0   0   0   0   0]\n",
            " [  0 435   0   0   0   0   0]\n",
            " [  0   0 425   0   0   0   0]\n",
            " [  0   0   0 429   0   0   0]\n",
            " [  0   0   0   0 401   0   0]\n",
            " [  0   0   0   0   0 444   0]\n",
            " [  0   0   0   0   0   0 460]]\n"
          ]
        }
      ],
      "source": [
        "cm = confusion_matrix(y_test, y_test_pred)\n",
        "print(cm)"
      ]
    },
    {
      "cell_type": "code",
      "execution_count": 31,
      "metadata": {
        "colab": {
          "base_uri": "https://localhost:8080/",
          "height": 466
        },
        "id": "QOSGGZkRkhiY",
        "outputId": "7affc2c0-b030-4232-c733-b2d22d0c1a7b"
      },
      "outputs": [
        {
          "data": {
            "text/plain": [
              "<sklearn.metrics._plot.confusion_matrix.ConfusionMatrixDisplay at 0x7f176952b280>"
            ]
          },
          "execution_count": 31,
          "metadata": {},
          "output_type": "execute_result"
        },
        {
          "data": {
            "image/png": "[encoded data removed]",
            "text/plain": [
              "<Figure size 640x480 with 2 Axes>"
            ]
          },
          "metadata": {},
          "output_type": "display_data"
        }
      ],
      "source": [
        "disp = ConfusionMatrixDisplay(confusion_matrix=cm, display_labels=best_model.classes_)\n",
        "disp.plot(cmap='Blues')"
      ]
    },
    {
      "cell_type": "markdown",
      "metadata": {},
      "source": [
        "Guardado del Modelo"
      ]
    },
    {
      "cell_type": "code",
      "execution_count": null,
      "metadata": {},
      "outputs": [],
      "source": [
        "# Guardo el modelo en formato h5\n",
        "with open('random_forest_model.h5', 'wb') as f:\n",
        "    pickle.dump(best_model, f)\n",
        "\n",
        "# Cargo el modelo para ver si lo hizo bien\n",
        "with open('random_forest_model.h5', 'rb') as f:\n",
        "    clf_loaded = pickle.load(f)\n"
      ]
    }
  ],
  "metadata": {
    "accelerator": "GPU",
    "colab": {
      "gpuType": "T4",
      "provenance": []
    },
    "kernelspec": {
      "display_name": "Python 3",
      "name": "python3"
    },
    "language_info": {
      "codemirror_mode": {
        "name": "ipython",
        "version": 3
      },
      "file_extension": ".py",
      "mimetype": "text/x-python",
      "name": "python",
      "nbconvert_exporter": "python",
      "pygments_lexer": "ipython3",
      "version": "3.12.3"
    }
  },
  "nbformat": 4,
  "nbformat_minor": 0
}
